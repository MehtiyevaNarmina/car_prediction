{
 "cells": [
  {
   "cell_type": "code",
   "execution_count": 10,
   "metadata": {},
   "outputs": [],
   "source": [
    "import pandas as pd, requests, re\n",
    "from bs4 import BeautifulSoup"
   ]
  },
  {
   "cell_type": "code",
   "execution_count": 11,
   "metadata": {},
   "outputs": [],
   "source": [
    "url = 'https://turbo.az/autos'\n",
    "headers = {\"User-Agent\" : \"Mozilla/5.0 (Windows NT 10.0; Win64; x64; rv:99.0) Gecko/20100101 Firefox/99.0\"}\n",
    "request = requests.get(url, headers = headers)\n",
    "soup = BeautifulSoup(request.content)"
   ]
  },
  {
   "cell_type": "code",
   "execution_count": 12,
   "metadata": {},
   "outputs": [],
   "source": [
    "links = []\n",
    "marka = []\n",
    "model = []\n",
    "year = []\n",
    "color = []\n",
    "engine = []\n",
    "mileage = []"
   ]
  },
  {
   "cell_type": "code",
   "execution_count": 13,
   "metadata": {},
   "outputs": [],
   "source": [
    "for row in soup.find_all('div',attrs = {'class':'products-i'}):\n",
    "    link = 'https://turbo.az' + row.find('a').get('href') \n",
    "    links.append(link)\n",
    "    request_2 = requests.get(link, headers = headers)\n",
    "    soup_2 = BeautifulSoup(request_2.content)\n",
    "    marka.append(soup_2.find_all('div', attrs = {'class':'product-properties__i'})[1].text[5:])\n",
    "    model.append(soup_2.find_all('div', attrs = {'class':'product-properties__i'})[2].text[5:])\n",
    "    year.append(soup_2.find_all('div', attrs = {'class':'product-properties__i'})[3].text[13:])\n",
    "    color.append(soup_2.find_all('div', attrs = {'class':'product-properties__i'})[5].text[4:])\n",
    "    engine.append(soup_2.find_all('div', attrs = {'class':'product-properties__i'})[6].text[4:])\n",
    "    mileage.append(soup_2.find_all('div', attrs = {'class':'product-properties__i'})[7].text[5:])"
   ]
  }
 ],
 "metadata": {
  "kernelspec": {
   "display_name": ".venv",
   "language": "python",
   "name": "python3"
  },
  "language_info": {
   "codemirror_mode": {
    "name": "ipython",
    "version": 3
   },
   "file_extension": ".py",
   "mimetype": "text/x-python",
   "name": "python",
   "nbconvert_exporter": "python",
   "pygments_lexer": "ipython3",
   "version": "3.11.9"
  }
 },
 "nbformat": 4,
 "nbformat_minor": 2
}
