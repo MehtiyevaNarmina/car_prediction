{
 "cells": [
  {
   "cell_type": "code",
   "execution_count": 43,
   "metadata": {},
   "outputs": [],
   "source": [
    "import pandas as pd\n",
    "import seaborn as sns\n",
    "import matplotlib.pyplot as plt\n",
    "import re\n",
    "import warnings\n",
    "warnings.filterwarnings('ignore')\n",
    "from sklearn import preprocessing \n",
    "from sklearn.preprocessing import OneHotEncoder"
   ]
  },
  {
   "cell_type": "markdown",
   "metadata": {},
   "source": [
    "### Data Understanding"
   ]
  },
  {
   "cell_type": "code",
   "execution_count": 44,
   "metadata": {},
   "outputs": [],
   "source": [
    "df = pd.read_csv('car_price_data.csv')"
   ]
  },
  {
   "cell_type": "code",
   "execution_count": 45,
   "metadata": {},
   "outputs": [
    {
     "data": {
      "text/html": [
       "<div>\n",
       "<style scoped>\n",
       "    .dataframe tbody tr th:only-of-type {\n",
       "        vertical-align: middle;\n",
       "    }\n",
       "\n",
       "    .dataframe tbody tr th {\n",
       "        vertical-align: top;\n",
       "    }\n",
       "\n",
       "    .dataframe thead th {\n",
       "        text-align: right;\n",
       "    }\n",
       "</style>\n",
       "<table border=\"1\" class=\"dataframe\">\n",
       "  <thead>\n",
       "    <tr style=\"text-align: right;\">\n",
       "      <th></th>\n",
       "      <th>Unnamed: 0</th>\n",
       "      <th>Links</th>\n",
       "      <th>Marka</th>\n",
       "      <th>Model</th>\n",
       "      <th>Year</th>\n",
       "      <th>Color</th>\n",
       "      <th>Engine</th>\n",
       "      <th>Fuel_type</th>\n",
       "      <th>Mileage</th>\n",
       "      <th>Gear_box</th>\n",
       "      <th>New</th>\n",
       "      <th>Price</th>\n",
       "    </tr>\n",
       "  </thead>\n",
       "  <tbody>\n",
       "    <tr>\n",
       "      <th>0</th>\n",
       "      <td>0</td>\n",
       "      <td>https://turbo.az/autos/8989100-bmw-x5</td>\n",
       "      <td>BMW</td>\n",
       "      <td>X5</td>\n",
       "      <td>2015</td>\n",
       "      <td>Göy</td>\n",
       "      <td>2.0</td>\n",
       "      <td>Mühərrik2.0 L / 313 a.g. / Plug-in Hibrid</td>\n",
       "      <td>121 000 km</td>\n",
       "      <td>Avtomat</td>\n",
       "      <td>Xeyr</td>\n",
       "      <td>28 000 USD</td>\n",
       "    </tr>\n",
       "    <tr>\n",
       "      <th>1</th>\n",
       "      <td>1</td>\n",
       "      <td>https://turbo.az/autos/9000361-volkswagen-tran...</td>\n",
       "      <td>Volkswagen</td>\n",
       "      <td>Transporter</td>\n",
       "      <td>2018</td>\n",
       "      <td>Qara</td>\n",
       "      <td>2.0</td>\n",
       "      <td>Mühərrik2.0 L / 140 a.g. / Dizel</td>\n",
       "      <td>60 000 km</td>\n",
       "      <td>Avtomat</td>\n",
       "      <td>Xeyr</td>\n",
       "      <td>30 700 USD</td>\n",
       "    </tr>\n",
       "    <tr>\n",
       "      <th>2</th>\n",
       "      <td>2</td>\n",
       "      <td>https://turbo.az/autos/9066249-honda-accord</td>\n",
       "      <td>Honda</td>\n",
       "      <td>Accord</td>\n",
       "      <td>2021</td>\n",
       "      <td>Yaş Asfalt</td>\n",
       "      <td>2.0</td>\n",
       "      <td>Mühərrik2.0 L / 212 a.g. / Hibrid</td>\n",
       "      <td>52 000 km</td>\n",
       "      <td>Variator</td>\n",
       "      <td>Xeyr</td>\n",
       "      <td>22 650 USD</td>\n",
       "    </tr>\n",
       "    <tr>\n",
       "      <th>3</th>\n",
       "      <td>3</td>\n",
       "      <td>https://turbo.az/autos/9089754-mercedes-c-230</td>\n",
       "      <td>Mercedes</td>\n",
       "      <td>C 230</td>\n",
       "      <td>1999</td>\n",
       "      <td>Qızılı</td>\n",
       "      <td>2.3</td>\n",
       "      <td>Mühərrik2.3 L / 150 a.g. / Benzin</td>\n",
       "      <td>284 000 km</td>\n",
       "      <td>Avtomat</td>\n",
       "      <td>Xeyr</td>\n",
       "      <td>12 450 AZN</td>\n",
       "    </tr>\n",
       "    <tr>\n",
       "      <th>4</th>\n",
       "      <td>4</td>\n",
       "      <td>https://turbo.az/autos/9051723-land-rover-rang...</td>\n",
       "      <td>Land Rover</td>\n",
       "      <td>Range Rover</td>\n",
       "      <td>2024</td>\n",
       "      <td>Qara</td>\n",
       "      <td>3.0</td>\n",
       "      <td>Mühərrik3.0 L / 460 a.g. / Plug-in Hibrid</td>\n",
       "      <td>0 km</td>\n",
       "      <td>Avtomat</td>\n",
       "      <td>Bəli</td>\n",
       "      <td>241 300 USD</td>\n",
       "    </tr>\n",
       "  </tbody>\n",
       "</table>\n",
       "</div>"
      ],
      "text/plain": [
       "   Unnamed: 0                                              Links       Marka  \\\n",
       "0           0              https://turbo.az/autos/8989100-bmw-x5         BMW   \n",
       "1           1  https://turbo.az/autos/9000361-volkswagen-tran...  Volkswagen   \n",
       "2           2        https://turbo.az/autos/9066249-honda-accord       Honda   \n",
       "3           3      https://turbo.az/autos/9089754-mercedes-c-230    Mercedes   \n",
       "4           4  https://turbo.az/autos/9051723-land-rover-rang...  Land Rover   \n",
       "\n",
       "         Model  Year       Color  Engine  \\\n",
       "0           X5  2015         Göy     2.0   \n",
       "1  Transporter  2018        Qara     2.0   \n",
       "2       Accord  2021  Yaş Asfalt     2.0   \n",
       "3        C 230  1999      Qızılı     2.3   \n",
       "4  Range Rover  2024        Qara     3.0   \n",
       "\n",
       "                                   Fuel_type     Mileage  Gear_box   New  \\\n",
       "0  Mühərrik2.0 L / 313 a.g. / Plug-in Hibrid  121 000 km   Avtomat  Xeyr   \n",
       "1           Mühərrik2.0 L / 140 a.g. / Dizel   60 000 km   Avtomat  Xeyr   \n",
       "2          Mühərrik2.0 L / 212 a.g. / Hibrid   52 000 km  Variator  Xeyr   \n",
       "3          Mühərrik2.3 L / 150 a.g. / Benzin  284 000 km   Avtomat  Xeyr   \n",
       "4  Mühərrik3.0 L / 460 a.g. / Plug-in Hibrid        0 km   Avtomat  Bəli   \n",
       "\n",
       "         Price  \n",
       "0   28 000 USD  \n",
       "1   30 700 USD  \n",
       "2   22 650 USD  \n",
       "3   12 450 AZN  \n",
       "4  241 300 USD  "
      ]
     },
     "execution_count": 45,
     "metadata": {},
     "output_type": "execute_result"
    }
   ],
   "source": [
    "df.head()"
   ]
  },
  {
   "cell_type": "code",
   "execution_count": 46,
   "metadata": {},
   "outputs": [
    {
     "data": {
      "text/plain": [
       "(9960, 12)"
      ]
     },
     "execution_count": 46,
     "metadata": {},
     "output_type": "execute_result"
    }
   ],
   "source": [
    "df.shape"
   ]
  },
  {
   "cell_type": "code",
   "execution_count": 47,
   "metadata": {},
   "outputs": [
    {
     "data": {
      "text/plain": [
       "Unnamed: 0    0\n",
       "Links         0\n",
       "Marka         0\n",
       "Model         0\n",
       "Year          0\n",
       "Color         0\n",
       "Engine        0\n",
       "Fuel_type     0\n",
       "Mileage       0\n",
       "Gear_box      0\n",
       "New           0\n",
       "Price         0\n",
       "dtype: int64"
      ]
     },
     "execution_count": 47,
     "metadata": {},
     "output_type": "execute_result"
    }
   ],
   "source": [
    "df.isnull().sum()"
   ]
  },
  {
   "cell_type": "markdown",
   "metadata": {},
   "source": [
    "### Data Preprocessing"
   ]
  },
  {
   "cell_type": "code",
   "execution_count": 48,
   "metadata": {},
   "outputs": [],
   "source": [
    "df_new = df.drop(['Unnamed: 0', 'Links'], axis = 1)\n",
    "mileage_list = list(df_new['Mileage'])\n",
    "mileage_list = [re.sub(r'\\s','', i) for i in mileage_list]\n",
    "mileage_list = [re.findall(r'\\d+', i) for i in mileage_list]\n",
    "mileage_pd = pd.DataFrame(mileage_list).fillna(0)\n",
    "mileage_pd = mileage_pd.astype('int32')\n",
    "df_new['Mileage'] = mileage_pd\n",
    "price_list = list(df_new['Price'])\n",
    "price_list = [re.sub(r'\\s','', i) for i in price_list]\n",
    "currency = [re.findall(r'\\D+', i)[0] for i in price_list]\n",
    "price_list = [re.findall(r'\\d+', i) for i in price_list]\n",
    "price_pd = pd.DataFrame(price_list).fillna(0)\n",
    "price_pd = price_pd.astype('int32')\n",
    "df_new['Price'] = price_pd\n",
    "df_new['Currency'] = currency\n",
    "fuel_list = list(df_new['Fuel_type'])\n",
    "fuel_list = [re.findall(r'[A-Z]\\w+', i) for i in fuel_list[25:]]\n",
    "fuel_list = list(df_new['Fuel_type'])\n",
    "fuel_list = [re.findall(r'[A-Z]\\D+', i) for i in fuel_list]\n",
    "fuel_pd = pd.DataFrame(fuel_list)\n",
    "fuel_pd.drop(columns=[0,1],axis = 1, inplace = True)\n",
    "df_new['Fuel_type'] = fuel_pd\n",
    "# df_new['New'] = df_new['New'].replace({'Bəli': 0, 'Xeyr': 1})"
   ]
  },
  {
   "cell_type": "code",
   "execution_count": 49,
   "metadata": {},
   "outputs": [
    {
     "data": {
      "text/plain": [
       "array(['USD', 'AZN', 'EUR'], dtype=object)"
      ]
     },
     "execution_count": 49,
     "metadata": {},
     "output_type": "execute_result"
    }
   ],
   "source": [
    "df_new['Currency'].unique()"
   ]
  },
  {
   "cell_type": "code",
   "execution_count": 50,
   "metadata": {},
   "outputs": [],
   "source": [
    "azn = 0.59\n",
    "eu = 1.05\n",
    "df_new.loc[df_new['Currency'] == 'AZN', 'Price'] *= azn\n",
    "df_new.loc[df_new['Currency'] == 'EUR', 'Price'] *= eu\n",
    "df_new.drop(['Currency'], axis = 1,inplace = True)"
   ]
  },
  {
   "cell_type": "code",
   "execution_count": 51,
   "metadata": {},
   "outputs": [
    {
     "data": {
      "text/plain": [
       "array(['Göy', 'Qara', 'Yaş Asfalt', 'Qızılı', 'Yaşıl', 'Ağ',\n",
       "       'Tünd qırmızı', 'Qəhvəyi', 'Qırmızı', 'Açıq yaşıl', 'Gümüşü',\n",
       "       'Boz', 'Narıncı', 'Sarı', 'Mavi', 'Bej', 'Bənövşəyi'], dtype=object)"
      ]
     },
     "execution_count": 51,
     "metadata": {},
     "output_type": "execute_result"
    }
   ],
   "source": [
    "df_new['Color'].unique()"
   ]
  },
  {
   "cell_type": "code",
   "execution_count": 52,
   "metadata": {},
   "outputs": [
    {
     "data": {
      "text/html": [
       "<div>\n",
       "<style scoped>\n",
       "    .dataframe tbody tr th:only-of-type {\n",
       "        vertical-align: middle;\n",
       "    }\n",
       "\n",
       "    .dataframe tbody tr th {\n",
       "        vertical-align: top;\n",
       "    }\n",
       "\n",
       "    .dataframe thead th {\n",
       "        text-align: right;\n",
       "    }\n",
       "</style>\n",
       "<table border=\"1\" class=\"dataframe\">\n",
       "  <thead>\n",
       "    <tr style=\"text-align: right;\">\n",
       "      <th></th>\n",
       "      <th>Marka</th>\n",
       "      <th>Model</th>\n",
       "      <th>Year</th>\n",
       "      <th>Color</th>\n",
       "      <th>Engine</th>\n",
       "      <th>Fuel_type</th>\n",
       "      <th>Mileage</th>\n",
       "      <th>Gear_box</th>\n",
       "      <th>New</th>\n",
       "      <th>Price</th>\n",
       "    </tr>\n",
       "  </thead>\n",
       "  <tbody>\n",
       "    <tr>\n",
       "      <th>0</th>\n",
       "      <td>BMW</td>\n",
       "      <td>X5</td>\n",
       "      <td>2015</td>\n",
       "      <td>Göy</td>\n",
       "      <td>2.0</td>\n",
       "      <td>Plug-in Hibrid</td>\n",
       "      <td>121000</td>\n",
       "      <td>Avtomat</td>\n",
       "      <td>Xeyr</td>\n",
       "      <td>28000.0</td>\n",
       "    </tr>\n",
       "    <tr>\n",
       "      <th>1</th>\n",
       "      <td>Volkswagen</td>\n",
       "      <td>Transporter</td>\n",
       "      <td>2018</td>\n",
       "      <td>Qara</td>\n",
       "      <td>2.0</td>\n",
       "      <td>Dizel</td>\n",
       "      <td>60000</td>\n",
       "      <td>Avtomat</td>\n",
       "      <td>Xeyr</td>\n",
       "      <td>30700.0</td>\n",
       "    </tr>\n",
       "    <tr>\n",
       "      <th>2</th>\n",
       "      <td>Honda</td>\n",
       "      <td>Accord</td>\n",
       "      <td>2021</td>\n",
       "      <td>Yaş Asfalt</td>\n",
       "      <td>2.0</td>\n",
       "      <td>Hibrid</td>\n",
       "      <td>52000</td>\n",
       "      <td>Variator</td>\n",
       "      <td>Xeyr</td>\n",
       "      <td>22650.0</td>\n",
       "    </tr>\n",
       "    <tr>\n",
       "      <th>3</th>\n",
       "      <td>Mercedes</td>\n",
       "      <td>C 230</td>\n",
       "      <td>1999</td>\n",
       "      <td>Qızılı</td>\n",
       "      <td>2.3</td>\n",
       "      <td>Benzin</td>\n",
       "      <td>284000</td>\n",
       "      <td>Avtomat</td>\n",
       "      <td>Xeyr</td>\n",
       "      <td>7345.5</td>\n",
       "    </tr>\n",
       "    <tr>\n",
       "      <th>4</th>\n",
       "      <td>Land Rover</td>\n",
       "      <td>Range Rover</td>\n",
       "      <td>2024</td>\n",
       "      <td>Qara</td>\n",
       "      <td>3.0</td>\n",
       "      <td>Plug-in Hibrid</td>\n",
       "      <td>0</td>\n",
       "      <td>Avtomat</td>\n",
       "      <td>Bəli</td>\n",
       "      <td>241300.0</td>\n",
       "    </tr>\n",
       "    <tr>\n",
       "      <th>...</th>\n",
       "      <td>...</td>\n",
       "      <td>...</td>\n",
       "      <td>...</td>\n",
       "      <td>...</td>\n",
       "      <td>...</td>\n",
       "      <td>...</td>\n",
       "      <td>...</td>\n",
       "      <td>...</td>\n",
       "      <td>...</td>\n",
       "      <td>...</td>\n",
       "    </tr>\n",
       "    <tr>\n",
       "      <th>9955</th>\n",
       "      <td>BYD</td>\n",
       "      <td>Yangwang U8</td>\n",
       "      <td>2024</td>\n",
       "      <td>Qara</td>\n",
       "      <td>2.0</td>\n",
       "      <td>Plug-in Hibrid</td>\n",
       "      <td>5200</td>\n",
       "      <td>Reduktor</td>\n",
       "      <td>Xeyr</td>\n",
       "      <td>158000.0</td>\n",
       "    </tr>\n",
       "    <tr>\n",
       "      <th>9956</th>\n",
       "      <td>Foton</td>\n",
       "      <td>Forland</td>\n",
       "      <td>2004</td>\n",
       "      <td>Ağ</td>\n",
       "      <td>2.3</td>\n",
       "      <td>Dizel</td>\n",
       "      <td>350000</td>\n",
       "      <td>Mexaniki</td>\n",
       "      <td>Xeyr</td>\n",
       "      <td>5605.0</td>\n",
       "    </tr>\n",
       "    <tr>\n",
       "      <th>9957</th>\n",
       "      <td>Toyota</td>\n",
       "      <td>Corolla</td>\n",
       "      <td>2014</td>\n",
       "      <td>Qara</td>\n",
       "      <td>1.6</td>\n",
       "      <td>Benzin</td>\n",
       "      <td>180000</td>\n",
       "      <td>Avtomat</td>\n",
       "      <td>Xeyr</td>\n",
       "      <td>14160.0</td>\n",
       "    </tr>\n",
       "    <tr>\n",
       "      <th>9958</th>\n",
       "      <td>Li Auto</td>\n",
       "      <td>L7</td>\n",
       "      <td>2024</td>\n",
       "      <td>Qara</td>\n",
       "      <td>1.5</td>\n",
       "      <td>Plug-in Hibrid</td>\n",
       "      <td>0</td>\n",
       "      <td>Reduktor</td>\n",
       "      <td>Bəli</td>\n",
       "      <td>52500.0</td>\n",
       "    </tr>\n",
       "    <tr>\n",
       "      <th>9959</th>\n",
       "      <td>Avatr</td>\n",
       "      <td>12</td>\n",
       "      <td>2024</td>\n",
       "      <td>Bənövşəyi</td>\n",
       "      <td>0.0</td>\n",
       "      <td>None</td>\n",
       "      <td>0</td>\n",
       "      <td>Reduktor</td>\n",
       "      <td>Bəli</td>\n",
       "      <td>55900.0</td>\n",
       "    </tr>\n",
       "  </tbody>\n",
       "</table>\n",
       "<p>9960 rows × 10 columns</p>\n",
       "</div>"
      ],
      "text/plain": [
       "           Marka        Model  Year       Color  Engine       Fuel_type  \\\n",
       "0            BMW           X5  2015         Göy     2.0  Plug-in Hibrid   \n",
       "1     Volkswagen  Transporter  2018        Qara     2.0           Dizel   \n",
       "2          Honda       Accord  2021  Yaş Asfalt     2.0          Hibrid   \n",
       "3       Mercedes        C 230  1999      Qızılı     2.3          Benzin   \n",
       "4     Land Rover  Range Rover  2024        Qara     3.0  Plug-in Hibrid   \n",
       "...          ...          ...   ...         ...     ...             ...   \n",
       "9955         BYD  Yangwang U8  2024        Qara     2.0  Plug-in Hibrid   \n",
       "9956       Foton      Forland  2004          Ağ     2.3           Dizel   \n",
       "9957      Toyota      Corolla  2014        Qara     1.6          Benzin   \n",
       "9958     Li Auto           L7  2024        Qara     1.5  Plug-in Hibrid   \n",
       "9959       Avatr           12  2024   Bənövşəyi     0.0            None   \n",
       "\n",
       "      Mileage  Gear_box   New     Price  \n",
       "0      121000   Avtomat  Xeyr   28000.0  \n",
       "1       60000   Avtomat  Xeyr   30700.0  \n",
       "2       52000  Variator  Xeyr   22650.0  \n",
       "3      284000   Avtomat  Xeyr    7345.5  \n",
       "4           0   Avtomat  Bəli  241300.0  \n",
       "...       ...       ...   ...       ...  \n",
       "9955     5200  Reduktor  Xeyr  158000.0  \n",
       "9956   350000  Mexaniki  Xeyr    5605.0  \n",
       "9957   180000   Avtomat  Xeyr   14160.0  \n",
       "9958        0  Reduktor  Bəli   52500.0  \n",
       "9959        0  Reduktor  Bəli   55900.0  \n",
       "\n",
       "[9960 rows x 10 columns]"
      ]
     },
     "execution_count": 52,
     "metadata": {},
     "output_type": "execute_result"
    }
   ],
   "source": [
    "df_new"
   ]
  },
  {
   "cell_type": "code",
   "execution_count": 53,
   "metadata": {},
   "outputs": [],
   "source": [
    "df_new['Price'] = df_new['Price'].astype('int32')"
   ]
  },
  {
   "cell_type": "code",
   "execution_count": 54,
   "metadata": {},
   "outputs": [],
   "source": [
    "df_new.to_csv('Cleaned_data.csv',index = False)"
   ]
  },
  {
   "cell_type": "code",
   "execution_count": 55,
   "metadata": {},
   "outputs": [
    {
     "name": "stdout",
     "output_type": "stream",
     "text": [
      "<class 'pandas.core.frame.DataFrame'>\n",
      "RangeIndex: 9960 entries, 0 to 9959\n",
      "Data columns (total 10 columns):\n",
      " #   Column     Non-Null Count  Dtype  \n",
      "---  ------     --------------  -----  \n",
      " 0   Marka      9960 non-null   object \n",
      " 1   Model      9960 non-null   object \n",
      " 2   Year       9960 non-null   int64  \n",
      " 3   Color      9960 non-null   object \n",
      " 4   Engine     9960 non-null   float64\n",
      " 5   Fuel_type  9276 non-null   object \n",
      " 6   Mileage    9960 non-null   int32  \n",
      " 7   Gear_box   9960 non-null   object \n",
      " 8   New        9960 non-null   object \n",
      " 9   Price      9960 non-null   int32  \n",
      "dtypes: float64(1), int32(2), int64(1), object(6)\n",
      "memory usage: 700.4+ KB\n"
     ]
    }
   ],
   "source": [
    "df_new.info()"
   ]
  },
  {
   "cell_type": "markdown",
   "metadata": {},
   "source": [
    "### EDA"
   ]
  },
  {
   "cell_type": "code",
   "execution_count": 56,
   "metadata": {},
   "outputs": [
    {
     "data": {
      "image/png": "[encoded data removed]",
      "text/plain": [
       "<Figure size 1000x600 with 1 Axes>"
      ]
     },
     "metadata": {},
     "output_type": "display_data"
    }
   ],
   "source": [
    "plt.figure(figsize = (10,6))\n",
    "sns.histplot(df_new['Price'], bins=20, kde = True)\n",
    "plt.title('Price distribution')\n",
    "plt.show()"
   ]
  },
  {
   "cell_type": "code",
   "execution_count": 57,
   "metadata": {},
   "outputs": [
    {
     "data": {
      "image/png": "[encoded data removed]",
      "text/plain": [
       "<Figure size 1200x600 with 4 Axes>"
      ]
     },
     "metadata": {},
     "output_type": "display_data"
    }
   ],
   "source": [
    "fig, axs = plt.subplots(2, 2, figsize = (12,6))\n",
    "axs[0, 0].boxplot(df_new['Year'])\n",
    "axs[1, 1].boxplot(df_new['Engine'])\n",
    "axs[0, 1].boxplot(df_new['Mileage'])\n",
    "axs[1, 0].boxplot(df_new['Price'])\n",
    "axs[0, 0].set_title('Year')\n",
    "axs[1, 1].set_title('Engine')\n",
    "axs[0, 1].set_title('Mileage')\n",
    "axs[1, 0].set_title('Price')\n",
    "plt.show()"
   ]
  },
  {
   "cell_type": "code",
   "execution_count": 58,
   "metadata": {},
   "outputs": [],
   "source": [
    "def clean_outliers(col):\n",
    "    q1 = df_new[col].quantile(0.25)\n",
    "    q3 = df_new[col].quantile(0.75)\n",
    "    iqr = q3 - q1 \n",
    "    outliers = df_new.loc[(df_new[col] < q1 - 1.5 * iqr) | (df_new[col] > q3 + 1.5 * iqr)]\n",
    "    df_new_clean = df_new.loc[(df_new[col] > q1 - 1.5 * iqr) & (df_new[col] < q3 + 1.5 * iqr)]\n",
    "    print(f'Outliers in {col}: {len(outliers)}')\n",
    "    return df_new_clean"
   ]
  },
  {
   "cell_type": "code",
   "execution_count": 59,
   "metadata": {},
   "outputs": [
    {
     "data": {
      "text/plain": [
       "Index(['Year', 'Engine', 'Mileage', 'Price'], dtype='object')"
      ]
     },
     "execution_count": 59,
     "metadata": {},
     "output_type": "execute_result"
    }
   ],
   "source": [
    "numeric_columns = df_new.select_dtypes(include='number').columns\n",
    "numeric_columns"
   ]
  },
  {
   "cell_type": "code",
   "execution_count": 60,
   "metadata": {},
   "outputs": [
    {
     "name": "stdout",
     "output_type": "stream",
     "text": [
      "Outliers in Year: 116\n",
      "Outliers in Engine: 2065\n",
      "Outliers in Mileage: 195\n",
      "Outliers in Price: 897\n"
     ]
    }
   ],
   "source": [
    "for col in numeric_columns:\n",
    "    cleaned_df = clean_outliers(col)    "
   ]
  },
  {
   "cell_type": "code",
   "execution_count": 61,
   "metadata": {},
   "outputs": [
    {
     "data": {
      "text/plain": [
       "(9063, 10)"
      ]
     },
     "execution_count": 61,
     "metadata": {},
     "output_type": "execute_result"
    }
   ],
   "source": [
    "cleaned_df.shape"
   ]
  },
  {
   "cell_type": "code",
   "execution_count": 62,
   "metadata": {},
   "outputs": [
    {
     "data": {
      "image/png": "[encoded data removed]",
      "text/plain": [
       "<Figure size 1200x600 with 4 Axes>"
      ]
     },
     "metadata": {},
     "output_type": "display_data"
    }
   ],
   "source": [
    "fig, axs = plt.subplots(2, 2, figsize = (12,6))\n",
    "axs[0, 0].boxplot(cleaned_df['Year'])\n",
    "axs[1, 1].boxplot(cleaned_df['Engine'])\n",
    "axs[0, 1].boxplot(cleaned_df['Mileage'])\n",
    "axs[1, 0].boxplot(cleaned_df['Price'])\n",
    "axs[0, 0].set_title('Year')\n",
    "axs[1, 1].set_title('Engine')\n",
    "axs[0, 1].set_title('Mileage')\n",
    "axs[1, 0].set_title('Price')\n",
    "plt.show()"
   ]
  },
  {
   "cell_type": "code",
   "execution_count": 63,
   "metadata": {},
   "outputs": [
    {
     "data": {
      "image/png": "[encoded data removed]",
      "text/plain": [
       "<Figure size 1000x600 with 1 Axes>"
      ]
     },
     "metadata": {},
     "output_type": "display_data"
    }
   ],
   "source": [
    "top_10 = cleaned_df['Marka'].value_counts()[:10]\n",
    "plt.figure(figsize = (10,6))\n",
    "sns.barplot(top_10, color = 'pink' )\n",
    "plt.title('Top 10 popular marks')\n",
    "plt.show()"
   ]
  },
  {
   "cell_type": "code",
   "execution_count": 64,
   "metadata": {},
   "outputs": [
    {
     "data": {
      "image/png": "[encoded data removed]",
      "text/plain": [
       "<Figure size 640x480 with 1 Axes>"
      ]
     },
     "metadata": {},
     "output_type": "display_data"
    }
   ],
   "source": [
    "sns.countplot(cleaned_df['New'])\n",
    "plt.show()"
   ]
  },
  {
   "cell_type": "code",
   "execution_count": 65,
   "metadata": {},
   "outputs": [],
   "source": [
    "values = cleaned_df['Marka'].value_counts().reset_index()\n",
    "marks = list(values.loc[values['count'] > 200,'Marka'])"
   ]
  },
  {
   "cell_type": "code",
   "execution_count": 66,
   "metadata": {},
   "outputs": [
    {
     "data": {
      "text/html": [
       "<div>\n",
       "<style scoped>\n",
       "    .dataframe tbody tr th:only-of-type {\n",
       "        vertical-align: middle;\n",
       "    }\n",
       "\n",
       "    .dataframe tbody tr th {\n",
       "        vertical-align: top;\n",
       "    }\n",
       "\n",
       "    .dataframe thead th {\n",
       "        text-align: right;\n",
       "    }\n",
       "</style>\n",
       "<table border=\"1\" class=\"dataframe\">\n",
       "  <thead>\n",
       "    <tr style=\"text-align: right;\">\n",
       "      <th></th>\n",
       "      <th>Marka</th>\n",
       "      <th>Model</th>\n",
       "      <th>Year</th>\n",
       "      <th>Color</th>\n",
       "      <th>Engine</th>\n",
       "      <th>Fuel_type</th>\n",
       "      <th>Mileage</th>\n",
       "      <th>Gear_box</th>\n",
       "      <th>New</th>\n",
       "      <th>Price</th>\n",
       "    </tr>\n",
       "  </thead>\n",
       "  <tbody>\n",
       "    <tr>\n",
       "      <th>0</th>\n",
       "      <td>BMW</td>\n",
       "      <td>X5</td>\n",
       "      <td>2015</td>\n",
       "      <td>Göy</td>\n",
       "      <td>2.0</td>\n",
       "      <td>Plug-in Hibrid</td>\n",
       "      <td>121000</td>\n",
       "      <td>Avtomat</td>\n",
       "      <td>Xeyr</td>\n",
       "      <td>28000</td>\n",
       "    </tr>\n",
       "    <tr>\n",
       "      <th>3</th>\n",
       "      <td>Mercedes</td>\n",
       "      <td>C 230</td>\n",
       "      <td>1999</td>\n",
       "      <td>Qızılı</td>\n",
       "      <td>2.3</td>\n",
       "      <td>Benzin</td>\n",
       "      <td>284000</td>\n",
       "      <td>Avtomat</td>\n",
       "      <td>Xeyr</td>\n",
       "      <td>7345</td>\n",
       "    </tr>\n",
       "    <tr>\n",
       "      <th>5</th>\n",
       "      <td>BMW</td>\n",
       "      <td>530</td>\n",
       "      <td>2008</td>\n",
       "      <td>Qara</td>\n",
       "      <td>3.0</td>\n",
       "      <td>Benzin</td>\n",
       "      <td>291000</td>\n",
       "      <td>Avtomat</td>\n",
       "      <td>Xeyr</td>\n",
       "      <td>12685</td>\n",
       "    </tr>\n",
       "    <tr>\n",
       "      <th>6</th>\n",
       "      <td>Hyundai</td>\n",
       "      <td>Elantra</td>\n",
       "      <td>2020</td>\n",
       "      <td>Yaş Asfalt</td>\n",
       "      <td>2.0</td>\n",
       "      <td>Benzin</td>\n",
       "      <td>88514</td>\n",
       "      <td>Avtomat</td>\n",
       "      <td>Xeyr</td>\n",
       "      <td>16461</td>\n",
       "    </tr>\n",
       "    <tr>\n",
       "      <th>9</th>\n",
       "      <td>Land Rover</td>\n",
       "      <td>Range Rover</td>\n",
       "      <td>2015</td>\n",
       "      <td>Ağ</td>\n",
       "      <td>5.0</td>\n",
       "      <td>Benzin</td>\n",
       "      <td>45000</td>\n",
       "      <td>Avtomat</td>\n",
       "      <td>Xeyr</td>\n",
       "      <td>61900</td>\n",
       "    </tr>\n",
       "    <tr>\n",
       "      <th>...</th>\n",
       "      <td>...</td>\n",
       "      <td>...</td>\n",
       "      <td>...</td>\n",
       "      <td>...</td>\n",
       "      <td>...</td>\n",
       "      <td>...</td>\n",
       "      <td>...</td>\n",
       "      <td>...</td>\n",
       "      <td>...</td>\n",
       "      <td>...</td>\n",
       "    </tr>\n",
       "    <tr>\n",
       "      <th>9952</th>\n",
       "      <td>Li Auto</td>\n",
       "      <td>L9</td>\n",
       "      <td>2024</td>\n",
       "      <td>Qara</td>\n",
       "      <td>1.5</td>\n",
       "      <td>Plug-in Hibrid</td>\n",
       "      <td>0</td>\n",
       "      <td>Reduktor</td>\n",
       "      <td>Bəli</td>\n",
       "      <td>65500</td>\n",
       "    </tr>\n",
       "    <tr>\n",
       "      <th>9953</th>\n",
       "      <td>Mercedes</td>\n",
       "      <td>E 200</td>\n",
       "      <td>2019</td>\n",
       "      <td>Qara</td>\n",
       "      <td>2.0</td>\n",
       "      <td>Benzin</td>\n",
       "      <td>116000</td>\n",
       "      <td>Avtomat</td>\n",
       "      <td>Xeyr</td>\n",
       "      <td>38500</td>\n",
       "    </tr>\n",
       "    <tr>\n",
       "      <th>9954</th>\n",
       "      <td>Toyota</td>\n",
       "      <td>Aqua</td>\n",
       "      <td>2019</td>\n",
       "      <td>Ağ</td>\n",
       "      <td>1.5</td>\n",
       "      <td>Hibrid</td>\n",
       "      <td>28000</td>\n",
       "      <td>Variator</td>\n",
       "      <td>Xeyr</td>\n",
       "      <td>12744</td>\n",
       "    </tr>\n",
       "    <tr>\n",
       "      <th>9957</th>\n",
       "      <td>Toyota</td>\n",
       "      <td>Corolla</td>\n",
       "      <td>2014</td>\n",
       "      <td>Qara</td>\n",
       "      <td>1.6</td>\n",
       "      <td>Benzin</td>\n",
       "      <td>180000</td>\n",
       "      <td>Avtomat</td>\n",
       "      <td>Xeyr</td>\n",
       "      <td>14160</td>\n",
       "    </tr>\n",
       "    <tr>\n",
       "      <th>9958</th>\n",
       "      <td>Li Auto</td>\n",
       "      <td>L7</td>\n",
       "      <td>2024</td>\n",
       "      <td>Qara</td>\n",
       "      <td>1.5</td>\n",
       "      <td>Plug-in Hibrid</td>\n",
       "      <td>0</td>\n",
       "      <td>Reduktor</td>\n",
       "      <td>Bəli</td>\n",
       "      <td>52500</td>\n",
       "    </tr>\n",
       "  </tbody>\n",
       "</table>\n",
       "<p>6591 rows × 10 columns</p>\n",
       "</div>"
      ],
      "text/plain": [
       "           Marka        Model  Year       Color  Engine       Fuel_type  \\\n",
       "0            BMW           X5  2015         Göy     2.0  Plug-in Hibrid   \n",
       "3       Mercedes        C 230  1999      Qızılı     2.3          Benzin   \n",
       "5            BMW          530  2008        Qara     3.0          Benzin   \n",
       "6        Hyundai      Elantra  2020  Yaş Asfalt     2.0          Benzin   \n",
       "9     Land Rover  Range Rover  2015          Ağ     5.0          Benzin   \n",
       "...          ...          ...   ...         ...     ...             ...   \n",
       "9952     Li Auto           L9  2024        Qara     1.5  Plug-in Hibrid   \n",
       "9953    Mercedes        E 200  2019        Qara     2.0          Benzin   \n",
       "9954      Toyota         Aqua  2019          Ağ     1.5          Hibrid   \n",
       "9957      Toyota      Corolla  2014        Qara     1.6          Benzin   \n",
       "9958     Li Auto           L7  2024        Qara     1.5  Plug-in Hibrid   \n",
       "\n",
       "      Mileage  Gear_box   New  Price  \n",
       "0      121000   Avtomat  Xeyr  28000  \n",
       "3      284000   Avtomat  Xeyr   7345  \n",
       "5      291000   Avtomat  Xeyr  12685  \n",
       "6       88514   Avtomat  Xeyr  16461  \n",
       "9       45000   Avtomat  Xeyr  61900  \n",
       "...       ...       ...   ...    ...  \n",
       "9952        0  Reduktor  Bəli  65500  \n",
       "9953   116000   Avtomat  Xeyr  38500  \n",
       "9954    28000  Variator  Xeyr  12744  \n",
       "9957   180000   Avtomat  Xeyr  14160  \n",
       "9958        0  Reduktor  Bəli  52500  \n",
       "\n",
       "[6591 rows x 10 columns]"
      ]
     },
     "execution_count": 66,
     "metadata": {},
     "output_type": "execute_result"
    }
   ],
   "source": [
    "cleaned_df = cleaned_df.loc[cleaned_df['Marka'].isin(marks)]\n",
    "cleaned_df"
   ]
  },
  {
   "cell_type": "code",
   "execution_count": 67,
   "metadata": {},
   "outputs": [],
   "source": [
    "cleaned_df.to_csv('cleaned_df.csv')"
   ]
  },
  {
   "cell_type": "code",
   "execution_count": 68,
   "metadata": {},
   "outputs": [],
   "source": [
    "from sklearn.preprocessing import OneHotEncoder"
   ]
  },
  {
   "cell_type": "code",
   "execution_count": 69,
   "metadata": {},
   "outputs": [],
   "source": [
    "#Label encoding\n",
    "import pickle\n",
    "label_encoder = preprocessing.LabelEncoder() \n",
    "cleaned_df['New'] = label_encoder.fit_transform(cleaned_df['New']) \n",
    "with open(\"new.pkl\", \"wb\") as f:\n",
    "    pickle.dump(label_encoder, f)\n",
    "cleaned_df['Gear_box'] = label_encoder.fit_transform(cleaned_df['Gear_box']) \n",
    "with open(\"gear_box.pkl\", \"wb\") as f:\n",
    "    pickle.dump(label_encoder, f)\n",
    "cleaned_df['Fuel_type'] = label_encoder.fit_transform(cleaned_df['Fuel_type'])\n",
    "with open(\"fuel_type.pkl\", \"wb\") as f:\n",
    "    pickle.dump(label_encoder, f)\n",
    "cleaned_df['Color']= label_encoder.fit_transform(cleaned_df['Color']) \n",
    "with open(\"color.pkl\", \"wb\") as f:\n",
    "    pickle.dump(label_encoder, f)\n",
    "#One-Hot encoding\n",
    "encoder = OneHotEncoder(sparse_output=False)\n",
    "encoder_df = encoder.fit_transform(cleaned_df.select_dtypes('object'))"
   ]
  },
  {
   "cell_type": "code",
   "execution_count": 70,
   "metadata": {},
   "outputs": [
    {
     "data": {
      "text/plain": [
       "array([[1., 0., 0., ..., 0., 0., 0.],\n",
       "       [0., 0., 0., ..., 0., 0., 0.],\n",
       "       [1., 0., 0., ..., 0., 0., 0.],\n",
       "       ...,\n",
       "       [0., 0., 0., ..., 0., 0., 0.],\n",
       "       [0., 0., 0., ..., 0., 0., 0.],\n",
       "       [0., 0., 0., ..., 0., 0., 0.]], shape=(6591, 102))"
      ]
     },
     "execution_count": 70,
     "metadata": {},
     "output_type": "execute_result"
    }
   ],
   "source": [
    "encoder_df"
   ]
  },
  {
   "cell_type": "code",
   "execution_count": 71,
   "metadata": {},
   "outputs": [],
   "source": [
    "encoder_df = pd.DataFrame(encoder_df, columns = encoder.get_feature_names_out(), index=cleaned_df.index)"
   ]
  },
  {
   "cell_type": "code",
   "execution_count": 72,
   "metadata": {},
   "outputs": [],
   "source": [
    "import pickle\n",
    "with open(\"encoder.pkl\", \"wb\") as f:\n",
    "    pickle.dump(encoder, f)"
   ]
  },
  {
   "cell_type": "code",
   "execution_count": 73,
   "metadata": {},
   "outputs": [],
   "source": [
    "cleaned_df = pd.concat([cleaned_df.drop(['Marka','Model'], axis = 1).reset_index(drop = True), encoder_df.reset_index(drop = True)], axis = 1)"
   ]
  },
  {
   "cell_type": "code",
   "execution_count": 74,
   "metadata": {},
   "outputs": [
    {
     "name": "stdout",
     "output_type": "stream",
     "text": [
      "<class 'pandas.core.frame.DataFrame'>\n",
      "RangeIndex: 6591 entries, 0 to 6590\n",
      "Columns: 110 entries, Year to Model_ix35\n",
      "dtypes: float64(103), int32(2), int64(5)\n",
      "memory usage: 5.5 MB\n"
     ]
    }
   ],
   "source": [
    "cleaned_df.info()"
   ]
  },
  {
   "cell_type": "code",
   "execution_count": 75,
   "metadata": {},
   "outputs": [
    {
     "data": {
      "text/html": [
       "<div>\n",
       "<style scoped>\n",
       "    .dataframe tbody tr th:only-of-type {\n",
       "        vertical-align: middle;\n",
       "    }\n",
       "\n",
       "    .dataframe tbody tr th {\n",
       "        vertical-align: top;\n",
       "    }\n",
       "\n",
       "    .dataframe thead th {\n",
       "        text-align: right;\n",
       "    }\n",
       "</style>\n",
       "<table border=\"1\" class=\"dataframe\">\n",
       "  <thead>\n",
       "    <tr style=\"text-align: right;\">\n",
       "      <th></th>\n",
       "      <th>Year</th>\n",
       "      <th>Color</th>\n",
       "      <th>Engine</th>\n",
       "      <th>Fuel_type</th>\n",
       "      <th>Mileage</th>\n",
       "      <th>Gear_box</th>\n",
       "      <th>New</th>\n",
       "      <th>Price</th>\n",
       "      <th>Marka_BMW</th>\n",
       "      <th>Marka_BYD</th>\n",
       "      <th>...</th>\n",
       "      <th>Model_Tipo</th>\n",
       "      <th>Model_Tucson</th>\n",
       "      <th>Model_Uni-K</th>\n",
       "      <th>Model_Vito 116</th>\n",
       "      <th>Model_X5</th>\n",
       "      <th>Model_X6</th>\n",
       "      <th>Model_X70C-DM</th>\n",
       "      <th>Model_X90 PLUS</th>\n",
       "      <th>Model_i30</th>\n",
       "      <th>Model_ix35</th>\n",
       "    </tr>\n",
       "  </thead>\n",
       "  <tbody>\n",
       "    <tr>\n",
       "      <th>0</th>\n",
       "      <td>2015</td>\n",
       "      <td>4</td>\n",
       "      <td>2.0</td>\n",
       "      <td>3</td>\n",
       "      <td>121000</td>\n",
       "      <td>0</td>\n",
       "      <td>1</td>\n",
       "      <td>28000</td>\n",
       "      <td>1.0</td>\n",
       "      <td>0.0</td>\n",
       "      <td>...</td>\n",
       "      <td>0.0</td>\n",
       "      <td>0.0</td>\n",
       "      <td>0.0</td>\n",
       "      <td>0.0</td>\n",
       "      <td>1.0</td>\n",
       "      <td>0.0</td>\n",
       "      <td>0.0</td>\n",
       "      <td>0.0</td>\n",
       "      <td>0.0</td>\n",
       "      <td>0.0</td>\n",
       "    </tr>\n",
       "    <tr>\n",
       "      <th>1</th>\n",
       "      <td>1999</td>\n",
       "      <td>9</td>\n",
       "      <td>2.3</td>\n",
       "      <td>0</td>\n",
       "      <td>284000</td>\n",
       "      <td>0</td>\n",
       "      <td>1</td>\n",
       "      <td>7345</td>\n",
       "      <td>0.0</td>\n",
       "      <td>0.0</td>\n",
       "      <td>...</td>\n",
       "      <td>0.0</td>\n",
       "      <td>0.0</td>\n",
       "      <td>0.0</td>\n",
       "      <td>0.0</td>\n",
       "      <td>0.0</td>\n",
       "      <td>0.0</td>\n",
       "      <td>0.0</td>\n",
       "      <td>0.0</td>\n",
       "      <td>0.0</td>\n",
       "      <td>0.0</td>\n",
       "    </tr>\n",
       "    <tr>\n",
       "      <th>2</th>\n",
       "      <td>2008</td>\n",
       "      <td>7</td>\n",
       "      <td>3.0</td>\n",
       "      <td>0</td>\n",
       "      <td>291000</td>\n",
       "      <td>0</td>\n",
       "      <td>1</td>\n",
       "      <td>12685</td>\n",
       "      <td>1.0</td>\n",
       "      <td>0.0</td>\n",
       "      <td>...</td>\n",
       "      <td>0.0</td>\n",
       "      <td>0.0</td>\n",
       "      <td>0.0</td>\n",
       "      <td>0.0</td>\n",
       "      <td>0.0</td>\n",
       "      <td>0.0</td>\n",
       "      <td>0.0</td>\n",
       "      <td>0.0</td>\n",
       "      <td>0.0</td>\n",
       "      <td>0.0</td>\n",
       "    </tr>\n",
       "    <tr>\n",
       "      <th>3</th>\n",
       "      <td>2020</td>\n",
       "      <td>12</td>\n",
       "      <td>2.0</td>\n",
       "      <td>0</td>\n",
       "      <td>88514</td>\n",
       "      <td>0</td>\n",
       "      <td>1</td>\n",
       "      <td>16461</td>\n",
       "      <td>0.0</td>\n",
       "      <td>0.0</td>\n",
       "      <td>...</td>\n",
       "      <td>0.0</td>\n",
       "      <td>0.0</td>\n",
       "      <td>0.0</td>\n",
       "      <td>0.0</td>\n",
       "      <td>0.0</td>\n",
       "      <td>0.0</td>\n",
       "      <td>0.0</td>\n",
       "      <td>0.0</td>\n",
       "      <td>0.0</td>\n",
       "      <td>0.0</td>\n",
       "    </tr>\n",
       "    <tr>\n",
       "      <th>4</th>\n",
       "      <td>2015</td>\n",
       "      <td>1</td>\n",
       "      <td>5.0</td>\n",
       "      <td>0</td>\n",
       "      <td>45000</td>\n",
       "      <td>0</td>\n",
       "      <td>1</td>\n",
       "      <td>61900</td>\n",
       "      <td>0.0</td>\n",
       "      <td>0.0</td>\n",
       "      <td>...</td>\n",
       "      <td>0.0</td>\n",
       "      <td>0.0</td>\n",
       "      <td>0.0</td>\n",
       "      <td>0.0</td>\n",
       "      <td>0.0</td>\n",
       "      <td>0.0</td>\n",
       "      <td>0.0</td>\n",
       "      <td>0.0</td>\n",
       "      <td>0.0</td>\n",
       "      <td>0.0</td>\n",
       "    </tr>\n",
       "    <tr>\n",
       "      <th>...</th>\n",
       "      <td>...</td>\n",
       "      <td>...</td>\n",
       "      <td>...</td>\n",
       "      <td>...</td>\n",
       "      <td>...</td>\n",
       "      <td>...</td>\n",
       "      <td>...</td>\n",
       "      <td>...</td>\n",
       "      <td>...</td>\n",
       "      <td>...</td>\n",
       "      <td>...</td>\n",
       "      <td>...</td>\n",
       "      <td>...</td>\n",
       "      <td>...</td>\n",
       "      <td>...</td>\n",
       "      <td>...</td>\n",
       "      <td>...</td>\n",
       "      <td>...</td>\n",
       "      <td>...</td>\n",
       "      <td>...</td>\n",
       "      <td>...</td>\n",
       "    </tr>\n",
       "    <tr>\n",
       "      <th>6586</th>\n",
       "      <td>2024</td>\n",
       "      <td>7</td>\n",
       "      <td>1.5</td>\n",
       "      <td>3</td>\n",
       "      <td>0</td>\n",
       "      <td>2</td>\n",
       "      <td>0</td>\n",
       "      <td>65500</td>\n",
       "      <td>0.0</td>\n",
       "      <td>0.0</td>\n",
       "      <td>...</td>\n",
       "      <td>0.0</td>\n",
       "      <td>0.0</td>\n",
       "      <td>0.0</td>\n",
       "      <td>0.0</td>\n",
       "      <td>0.0</td>\n",
       "      <td>0.0</td>\n",
       "      <td>0.0</td>\n",
       "      <td>0.0</td>\n",
       "      <td>0.0</td>\n",
       "      <td>0.0</td>\n",
       "    </tr>\n",
       "    <tr>\n",
       "      <th>6587</th>\n",
       "      <td>2019</td>\n",
       "      <td>7</td>\n",
       "      <td>2.0</td>\n",
       "      <td>0</td>\n",
       "      <td>116000</td>\n",
       "      <td>0</td>\n",
       "      <td>1</td>\n",
       "      <td>38500</td>\n",
       "      <td>0.0</td>\n",
       "      <td>0.0</td>\n",
       "      <td>...</td>\n",
       "      <td>0.0</td>\n",
       "      <td>0.0</td>\n",
       "      <td>0.0</td>\n",
       "      <td>0.0</td>\n",
       "      <td>0.0</td>\n",
       "      <td>0.0</td>\n",
       "      <td>0.0</td>\n",
       "      <td>0.0</td>\n",
       "      <td>0.0</td>\n",
       "      <td>0.0</td>\n",
       "    </tr>\n",
       "    <tr>\n",
       "      <th>6588</th>\n",
       "      <td>2019</td>\n",
       "      <td>1</td>\n",
       "      <td>1.5</td>\n",
       "      <td>2</td>\n",
       "      <td>28000</td>\n",
       "      <td>4</td>\n",
       "      <td>1</td>\n",
       "      <td>12744</td>\n",
       "      <td>0.0</td>\n",
       "      <td>0.0</td>\n",
       "      <td>...</td>\n",
       "      <td>0.0</td>\n",
       "      <td>0.0</td>\n",
       "      <td>0.0</td>\n",
       "      <td>0.0</td>\n",
       "      <td>0.0</td>\n",
       "      <td>0.0</td>\n",
       "      <td>0.0</td>\n",
       "      <td>0.0</td>\n",
       "      <td>0.0</td>\n",
       "      <td>0.0</td>\n",
       "    </tr>\n",
       "    <tr>\n",
       "      <th>6589</th>\n",
       "      <td>2014</td>\n",
       "      <td>7</td>\n",
       "      <td>1.6</td>\n",
       "      <td>0</td>\n",
       "      <td>180000</td>\n",
       "      <td>0</td>\n",
       "      <td>1</td>\n",
       "      <td>14160</td>\n",
       "      <td>0.0</td>\n",
       "      <td>0.0</td>\n",
       "      <td>...</td>\n",
       "      <td>0.0</td>\n",
       "      <td>0.0</td>\n",
       "      <td>0.0</td>\n",
       "      <td>0.0</td>\n",
       "      <td>0.0</td>\n",
       "      <td>0.0</td>\n",
       "      <td>0.0</td>\n",
       "      <td>0.0</td>\n",
       "      <td>0.0</td>\n",
       "      <td>0.0</td>\n",
       "    </tr>\n",
       "    <tr>\n",
       "      <th>6590</th>\n",
       "      <td>2024</td>\n",
       "      <td>7</td>\n",
       "      <td>1.5</td>\n",
       "      <td>3</td>\n",
       "      <td>0</td>\n",
       "      <td>2</td>\n",
       "      <td>0</td>\n",
       "      <td>52500</td>\n",
       "      <td>0.0</td>\n",
       "      <td>0.0</td>\n",
       "      <td>...</td>\n",
       "      <td>0.0</td>\n",
       "      <td>0.0</td>\n",
       "      <td>0.0</td>\n",
       "      <td>0.0</td>\n",
       "      <td>0.0</td>\n",
       "      <td>0.0</td>\n",
       "      <td>0.0</td>\n",
       "      <td>0.0</td>\n",
       "      <td>0.0</td>\n",
       "      <td>0.0</td>\n",
       "    </tr>\n",
       "  </tbody>\n",
       "</table>\n",
       "<p>6591 rows × 110 columns</p>\n",
       "</div>"
      ],
      "text/plain": [
       "      Year  Color  Engine  Fuel_type  Mileage  Gear_box  New  Price  \\\n",
       "0     2015      4     2.0          3   121000         0    1  28000   \n",
       "1     1999      9     2.3          0   284000         0    1   7345   \n",
       "2     2008      7     3.0          0   291000         0    1  12685   \n",
       "3     2020     12     2.0          0    88514         0    1  16461   \n",
       "4     2015      1     5.0          0    45000         0    1  61900   \n",
       "...    ...    ...     ...        ...      ...       ...  ...    ...   \n",
       "6586  2024      7     1.5          3        0         2    0  65500   \n",
       "6587  2019      7     2.0          0   116000         0    1  38500   \n",
       "6588  2019      1     1.5          2    28000         4    1  12744   \n",
       "6589  2014      7     1.6          0   180000         0    1  14160   \n",
       "6590  2024      7     1.5          3        0         2    0  52500   \n",
       "\n",
       "      Marka_BMW  Marka_BYD  ...  Model_Tipo  Model_Tucson  Model_Uni-K  \\\n",
       "0           1.0        0.0  ...         0.0           0.0          0.0   \n",
       "1           0.0        0.0  ...         0.0           0.0          0.0   \n",
       "2           1.0        0.0  ...         0.0           0.0          0.0   \n",
       "3           0.0        0.0  ...         0.0           0.0          0.0   \n",
       "4           0.0        0.0  ...         0.0           0.0          0.0   \n",
       "...         ...        ...  ...         ...           ...          ...   \n",
       "6586        0.0        0.0  ...         0.0           0.0          0.0   \n",
       "6587        0.0        0.0  ...         0.0           0.0          0.0   \n",
       "6588        0.0        0.0  ...         0.0           0.0          0.0   \n",
       "6589        0.0        0.0  ...         0.0           0.0          0.0   \n",
       "6590        0.0        0.0  ...         0.0           0.0          0.0   \n",
       "\n",
       "      Model_Vito 116  Model_X5  Model_X6  Model_X70C-DM  Model_X90 PLUS  \\\n",
       "0                0.0       1.0       0.0            0.0             0.0   \n",
       "1                0.0       0.0       0.0            0.0             0.0   \n",
       "2                0.0       0.0       0.0            0.0             0.0   \n",
       "3                0.0       0.0       0.0            0.0             0.0   \n",
       "4                0.0       0.0       0.0            0.0             0.0   \n",
       "...              ...       ...       ...            ...             ...   \n",
       "6586             0.0       0.0       0.0            0.0             0.0   \n",
       "6587             0.0       0.0       0.0            0.0             0.0   \n",
       "6588             0.0       0.0       0.0            0.0             0.0   \n",
       "6589             0.0       0.0       0.0            0.0             0.0   \n",
       "6590             0.0       0.0       0.0            0.0             0.0   \n",
       "\n",
       "      Model_i30  Model_ix35  \n",
       "0           0.0         0.0  \n",
       "1           0.0         0.0  \n",
       "2           0.0         0.0  \n",
       "3           0.0         0.0  \n",
       "4           0.0         0.0  \n",
       "...         ...         ...  \n",
       "6586        0.0         0.0  \n",
       "6587        0.0         0.0  \n",
       "6588        0.0         0.0  \n",
       "6589        0.0         0.0  \n",
       "6590        0.0         0.0  \n",
       "\n",
       "[6591 rows x 110 columns]"
      ]
     },
     "execution_count": 75,
     "metadata": {},
     "output_type": "execute_result"
    }
   ],
   "source": [
    "cleaned_df"
   ]
  },
  {
   "cell_type": "markdown",
   "metadata": {},
   "source": [
    "Model"
   ]
  },
  {
   "cell_type": "code",
   "execution_count": 76,
   "metadata": {},
   "outputs": [],
   "source": [
    "import numpy as np\n",
    "import xgboost as xg \n",
    "from sklearn.model_selection import train_test_split \n",
    "from sklearn.metrics import mean_squared_error as MSE "
   ]
  },
  {
   "cell_type": "code",
   "execution_count": 77,
   "metadata": {},
   "outputs": [
    {
     "name": "stdout",
     "output_type": "stream",
     "text": [
      "RMSE :  892.167706\n"
     ]
    }
   ],
   "source": [
    "X = cleaned_df.drop('Price', axis = 1)\n",
    "y = cleaned_df['Price']\n",
    "train_X, test_X, train_y, test_y = train_test_split(X, y, test_size = 0.3, random_state = 123) \n",
    "xgb_r = xg.XGBRegressor(objective ='reg:linear', n_estimators = 50, seed = 123)\n",
    "xgb_r.fit(train_X, train_y) \n",
    "pred = xgb_r.predict(test_X) \n",
    "rmse = np.sqrt(MSE(test_y, pred)) \n",
    "print(\"RMSE : % f\" %(rmse)) "
   ]
  },
  {
   "cell_type": "code",
   "execution_count": 78,
   "metadata": {},
   "outputs": [
    {
     "data": {
      "text/plain": [
       "0.9944096803665161"
      ]
     },
     "execution_count": 78,
     "metadata": {},
     "output_type": "execute_result"
    }
   ],
   "source": [
    "from sklearn.metrics import r2_score\n",
    "r2 = r2_score(test_y, pred)\n",
    "r2"
   ]
  },
  {
   "cell_type": "markdown",
   "metadata": {},
   "source": [
    "Hyperparameter tuning"
   ]
  },
  {
   "cell_type": "code",
   "execution_count": 79,
   "metadata": {},
   "outputs": [],
   "source": [
    "from xgboost.sklearn import XGBRegressor\n",
    "from sklearn.model_selection import GridSearchCV\n",
    "X = cleaned_df.drop('Price', axis = 1)\n",
    "y = cleaned_df['Price']\n",
    "train_X, test_X, train_y, test_y = train_test_split(X, y, test_size = 0.3, random_state = 123) \n",
    "parameters = {'n_estimators':[50, 100]}\n",
    "xgb1 = XGBRegressor()\n",
    "tuning = GridSearchCV(estimator = xgb1, param_grid = parameters, cv = 2, n_jobs = 5)\n",
    "tuning.fit(train_X, train_y)\n",
    "model = tuning.best_estimator_\n",
    "pred_tuning = tuning.predict(test_X) "
   ]
  },
  {
   "cell_type": "code",
   "execution_count": 80,
   "metadata": {},
   "outputs": [
    {
     "name": "stdout",
     "output_type": "stream",
     "text": [
      "0.9952263832092285\n"
     ]
    }
   ],
   "source": [
    "score = tuning.score(test_X, test_y)\n",
    "print(score)"
   ]
  },
  {
   "cell_type": "code",
   "execution_count": 81,
   "metadata": {},
   "outputs": [],
   "source": [
    "from sklearn.metrics import r2_score\n",
    "r2_tuning = r2_score(test_y, pred_tuning)"
   ]
  },
  {
   "cell_type": "code",
   "execution_count": 82,
   "metadata": {},
   "outputs": [
    {
     "data": {
      "text/plain": [
       "0.9952263832092285"
      ]
     },
     "execution_count": 82,
     "metadata": {},
     "output_type": "execute_result"
    }
   ],
   "source": [
    "r2_tuning"
   ]
  },
  {
   "cell_type": "code",
   "execution_count": 83,
   "metadata": {},
   "outputs": [
    {
     "data": {
      "text/plain": [
       "np.float64(892.167705583517)"
      ]
     },
     "execution_count": 83,
     "metadata": {},
     "output_type": "execute_result"
    }
   ],
   "source": [
    "rmse"
   ]
  },
  {
   "cell_type": "code",
   "execution_count": 84,
   "metadata": {},
   "outputs": [],
   "source": [
    "import pickle\n",
    "with open(\"best_model.pkl\", \"wb\") as f:\n",
    "    pickle.dump(model, f)"
   ]
  }
 ],
 "metadata": {
  "kernelspec": {
   "display_name": ".venv",
   "language": "python",
   "name": "python3"
  },
  "language_info": {
   "codemirror_mode": {
    "name": "ipython",
    "version": 3
   },
   "file_extension": ".py",
   "mimetype": "text/x-python",
   "name": "python",
   "nbconvert_exporter": "python",
   "pygments_lexer": "ipython3",
   "version": "3.11.9"
  }
 },
 "nbformat": 4,
 "nbformat_minor": 2
}
